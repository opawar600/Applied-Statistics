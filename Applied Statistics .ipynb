{
 "cells": [
  {
   "cell_type": "markdown",
   "metadata": {},
   "source": [
    "# Applied Statistics : Assignment 1\n",
    "#### Omkar Nitin Pawar\n",
    "#### A20448802"
   ]
  },
  {
   "cell_type": "code",
   "execution_count": 1,
   "metadata": {
    "_cell_guid": "b1076dfc-b9ad-4769-8c92-a6c4dae69d19",
    "_uuid": "8f2839f25d086af736a60e9eeb907d3b93b6e0e5"
   },
   "outputs": [
    {
     "name": "stdout",
     "output_type": "stream",
     "text": [
      "/kaggle/input/skincancer2.txt\n"
     ]
    }
   ],
   "source": [
    "import numpy as np # linear algebra\n",
    "import pandas as pd # data processing, CSV file I/O (e.g. pd.read_csv)\n",
    "\n",
    "\n",
    "import os\n",
    "for dirname, _, filenames in os.walk('/kaggle/input'):\n",
    "    for filename in filenames:\n",
    "        print(os.path.join(dirname, filename))\n",
    "import random\n"
   ]
  },
  {
   "cell_type": "markdown",
   "metadata": {},
   "source": [
    "# Question 4\n",
    "\n",
    "Generate the data according to given conditions\n",
    "\n"
   ]
  },
  {
   "cell_type": "code",
   "execution_count": 2,
   "metadata": {
    "_cell_guid": "79c7e3d0-c299-4dcb-8224-4455121ee9b0",
    "_uuid": "d629ff2d2480ee46fbb7e2d37f6b5fab8052498a"
   },
   "outputs": [],
   "source": [
    "x = []\n",
    "for i in range(0,40):\n",
    "    x.append(random.uniform(-1,1)) #X in range -1 to 1\n",
    "    \n",
    "s = np.random.normal(0,0.1,40) # Normally distributed E"
   ]
  },
  {
   "cell_type": "code",
   "execution_count": 3,
   "metadata": {},
   "outputs": [],
   "source": [
    "df = pd.DataFrame(data = x, columns = [\"Xi\"])\n",
    "df[\"E\"] = s"
   ]
  },
  {
   "cell_type": "markdown",
   "metadata": {},
   "source": [
    "Calculate the value of y as y = 2x + E"
   ]
  },
  {
   "cell_type": "code",
   "execution_count": 4,
   "metadata": {},
   "outputs": [],
   "source": [
    "df[\"Yi\"] = 2*df[\"Xi\"]+df[\"E\"]"
   ]
  },
  {
   "cell_type": "code",
   "execution_count": 5,
   "metadata": {},
   "outputs": [
    {
     "data": {
      "text/html": [
       "<div>\n",
       "<style scoped>\n",
       "    .dataframe tbody tr th:only-of-type {\n",
       "        vertical-align: middle;\n",
       "    }\n",
       "\n",
       "    .dataframe tbody tr th {\n",
       "        vertical-align: top;\n",
       "    }\n",
       "\n",
       "    .dataframe thead th {\n",
       "        text-align: right;\n",
       "    }\n",
       "</style>\n",
       "<table border=\"1\" class=\"dataframe\">\n",
       "  <thead>\n",
       "    <tr style=\"text-align: right;\">\n",
       "      <th></th>\n",
       "      <th>Xi</th>\n",
       "      <th>E</th>\n",
       "      <th>Yi</th>\n",
       "    </tr>\n",
       "  </thead>\n",
       "  <tbody>\n",
       "    <tr>\n",
       "      <th>0</th>\n",
       "      <td>0.042358</td>\n",
       "      <td>0.040080</td>\n",
       "      <td>0.124795</td>\n",
       "    </tr>\n",
       "    <tr>\n",
       "      <th>1</th>\n",
       "      <td>-0.678894</td>\n",
       "      <td>-0.036894</td>\n",
       "      <td>-1.394683</td>\n",
       "    </tr>\n",
       "    <tr>\n",
       "      <th>2</th>\n",
       "      <td>-0.581530</td>\n",
       "      <td>-0.183731</td>\n",
       "      <td>-1.346791</td>\n",
       "    </tr>\n",
       "    <tr>\n",
       "      <th>3</th>\n",
       "      <td>-0.227549</td>\n",
       "      <td>0.167842</td>\n",
       "      <td>-0.287256</td>\n",
       "    </tr>\n",
       "    <tr>\n",
       "      <th>4</th>\n",
       "      <td>0.862021</td>\n",
       "      <td>-0.026664</td>\n",
       "      <td>1.697379</td>\n",
       "    </tr>\n",
       "  </tbody>\n",
       "</table>\n",
       "</div>"
      ],
      "text/plain": [
       "         Xi         E        Yi\n",
       "0  0.042358  0.040080  0.124795\n",
       "1 -0.678894 -0.036894 -1.394683\n",
       "2 -0.581530 -0.183731 -1.346791\n",
       "3 -0.227549  0.167842 -0.287256\n",
       "4  0.862021 -0.026664  1.697379"
      ]
     },
     "execution_count": 5,
     "metadata": {},
     "output_type": "execute_result"
    }
   ],
   "source": [
    "df.head()"
   ]
  },
  {
   "cell_type": "markdown",
   "metadata": {},
   "source": [
    "# Regression Through Origin \n",
    "Estimate of B when it is regression through origin"
   ]
  },
  {
   "cell_type": "code",
   "execution_count": 6,
   "metadata": {},
   "outputs": [
    {
     "data": {
      "text/plain": [
       "2.0563633742614518"
      ]
     },
     "execution_count": 6,
     "metadata": {},
     "output_type": "execute_result"
    }
   ],
   "source": [
    "bRTO = sum(df[\"Xi\"]*df[\"Yi\"]) / sum(df[\"Xi\"]**2)\n",
    "bRTO"
   ]
  },
  {
   "cell_type": "markdown",
   "metadata": {},
   "source": [
    "Predict the value of Y using regression through origin"
   ]
  },
  {
   "cell_type": "code",
   "execution_count": 7,
   "metadata": {},
   "outputs": [],
   "source": [
    "df[\"YiOrigin\"] = (bRTO*df[\"Xi\"])"
   ]
  },
  {
   "cell_type": "code",
   "execution_count": 8,
   "metadata": {},
   "outputs": [
    {
     "data": {
      "text/html": [
       "<div>\n",
       "<style scoped>\n",
       "    .dataframe tbody tr th:only-of-type {\n",
       "        vertical-align: middle;\n",
       "    }\n",
       "\n",
       "    .dataframe tbody tr th {\n",
       "        vertical-align: top;\n",
       "    }\n",
       "\n",
       "    .dataframe thead th {\n",
       "        text-align: right;\n",
       "    }\n",
       "</style>\n",
       "<table border=\"1\" class=\"dataframe\">\n",
       "  <thead>\n",
       "    <tr style=\"text-align: right;\">\n",
       "      <th></th>\n",
       "      <th>Xi</th>\n",
       "      <th>E</th>\n",
       "      <th>Yi</th>\n",
       "      <th>YiOrigin</th>\n",
       "    </tr>\n",
       "  </thead>\n",
       "  <tbody>\n",
       "    <tr>\n",
       "      <th>0</th>\n",
       "      <td>0.042358</td>\n",
       "      <td>0.040080</td>\n",
       "      <td>0.124795</td>\n",
       "      <td>0.087103</td>\n",
       "    </tr>\n",
       "    <tr>\n",
       "      <th>1</th>\n",
       "      <td>-0.678894</td>\n",
       "      <td>-0.036894</td>\n",
       "      <td>-1.394683</td>\n",
       "      <td>-1.396053</td>\n",
       "    </tr>\n",
       "    <tr>\n",
       "      <th>2</th>\n",
       "      <td>-0.581530</td>\n",
       "      <td>-0.183731</td>\n",
       "      <td>-1.346791</td>\n",
       "      <td>-1.195837</td>\n",
       "    </tr>\n",
       "    <tr>\n",
       "      <th>3</th>\n",
       "      <td>-0.227549</td>\n",
       "      <td>0.167842</td>\n",
       "      <td>-0.287256</td>\n",
       "      <td>-0.467923</td>\n",
       "    </tr>\n",
       "    <tr>\n",
       "      <th>4</th>\n",
       "      <td>0.862021</td>\n",
       "      <td>-0.026664</td>\n",
       "      <td>1.697379</td>\n",
       "      <td>1.772629</td>\n",
       "    </tr>\n",
       "  </tbody>\n",
       "</table>\n",
       "</div>"
      ],
      "text/plain": [
       "         Xi         E        Yi  YiOrigin\n",
       "0  0.042358  0.040080  0.124795  0.087103\n",
       "1 -0.678894 -0.036894 -1.394683 -1.396053\n",
       "2 -0.581530 -0.183731 -1.346791 -1.195837\n",
       "3 -0.227549  0.167842 -0.287256 -0.467923\n",
       "4  0.862021 -0.026664  1.697379  1.772629"
      ]
     },
     "execution_count": 8,
     "metadata": {},
     "output_type": "execute_result"
    }
   ],
   "source": [
    "df.head()"
   ]
  },
  {
   "cell_type": "markdown",
   "metadata": {},
   "source": [
    "# Ordinary Linear Regression"
   ]
  },
  {
   "cell_type": "markdown",
   "metadata": {},
   "source": [
    "Now, we calculate the values of normal regression line parameters (b0 and b1)"
   ]
  },
  {
   "cell_type": "code",
   "execution_count": 9,
   "metadata": {},
   "outputs": [],
   "source": [
    "x_mean = df[\"Xi\"].mean()\n",
    "y_mean = df[\"Yi\"].mean()"
   ]
  },
  {
   "cell_type": "code",
   "execution_count": 10,
   "metadata": {},
   "outputs": [
    {
     "data": {
      "text/plain": [
       "13.485678322261375"
      ]
     },
     "execution_count": 10,
     "metadata": {},
     "output_type": "execute_result"
    }
   ],
   "source": [
    "sum((df[\"Xi\"] - x_mean)**2)"
   ]
  },
  {
   "cell_type": "code",
   "execution_count": 11,
   "metadata": {},
   "outputs": [
    {
     "data": {
      "text/plain": [
       "2.0581243485627763"
      ]
     },
     "execution_count": 11,
     "metadata": {},
     "output_type": "execute_result"
    }
   ],
   "source": [
    "b1 = sum((df[\"Xi\"] - x_mean)*(df[\"Yi\"] - y_mean)) / sum((df[\"Xi\"] - x_mean)**2) # Value of regression coefficient(Slope)\n",
    "b1"
   ]
  },
  {
   "cell_type": "code",
   "execution_count": 12,
   "metadata": {},
   "outputs": [
    {
     "data": {
      "text/plain": [
       "-0.010117424624756344"
      ]
     },
     "execution_count": 12,
     "metadata": {},
     "output_type": "execute_result"
    }
   ],
   "source": [
    "b0 = y_mean - (b1 * x_mean) # Value of intercept\n",
    "b0"
   ]
  },
  {
   "cell_type": "markdown",
   "metadata": {},
   "source": [
    "Predict the value of Y by using ordinary linear regression"
   ]
  },
  {
   "cell_type": "code",
   "execution_count": 13,
   "metadata": {},
   "outputs": [],
   "source": [
    "df[\"YiHat\"] = b0 + (b1*df[\"Xi\"])"
   ]
  },
  {
   "cell_type": "code",
   "execution_count": 14,
   "metadata": {},
   "outputs": [
    {
     "data": {
      "text/html": [
       "<div>\n",
       "<style scoped>\n",
       "    .dataframe tbody tr th:only-of-type {\n",
       "        vertical-align: middle;\n",
       "    }\n",
       "\n",
       "    .dataframe tbody tr th {\n",
       "        vertical-align: top;\n",
       "    }\n",
       "\n",
       "    .dataframe thead th {\n",
       "        text-align: right;\n",
       "    }\n",
       "</style>\n",
       "<table border=\"1\" class=\"dataframe\">\n",
       "  <thead>\n",
       "    <tr style=\"text-align: right;\">\n",
       "      <th></th>\n",
       "      <th>Xi</th>\n",
       "      <th>E</th>\n",
       "      <th>Yi</th>\n",
       "      <th>YiOrigin</th>\n",
       "      <th>YiHat</th>\n",
       "    </tr>\n",
       "  </thead>\n",
       "  <tbody>\n",
       "    <tr>\n",
       "      <th>0</th>\n",
       "      <td>0.042358</td>\n",
       "      <td>0.040080</td>\n",
       "      <td>0.124795</td>\n",
       "      <td>0.087103</td>\n",
       "      <td>0.077060</td>\n",
       "    </tr>\n",
       "    <tr>\n",
       "      <th>1</th>\n",
       "      <td>-0.678894</td>\n",
       "      <td>-0.036894</td>\n",
       "      <td>-1.394683</td>\n",
       "      <td>-1.396053</td>\n",
       "      <td>-1.407366</td>\n",
       "    </tr>\n",
       "    <tr>\n",
       "      <th>2</th>\n",
       "      <td>-0.581530</td>\n",
       "      <td>-0.183731</td>\n",
       "      <td>-1.346791</td>\n",
       "      <td>-1.195837</td>\n",
       "      <td>-1.206979</td>\n",
       "    </tr>\n",
       "    <tr>\n",
       "      <th>3</th>\n",
       "      <td>-0.227549</td>\n",
       "      <td>0.167842</td>\n",
       "      <td>-0.287256</td>\n",
       "      <td>-0.467923</td>\n",
       "      <td>-0.478441</td>\n",
       "    </tr>\n",
       "    <tr>\n",
       "      <th>4</th>\n",
       "      <td>0.862021</td>\n",
       "      <td>-0.026664</td>\n",
       "      <td>1.697379</td>\n",
       "      <td>1.772629</td>\n",
       "      <td>1.764030</td>\n",
       "    </tr>\n",
       "  </tbody>\n",
       "</table>\n",
       "</div>"
      ],
      "text/plain": [
       "         Xi         E        Yi  YiOrigin     YiHat\n",
       "0  0.042358  0.040080  0.124795  0.087103  0.077060\n",
       "1 -0.678894 -0.036894 -1.394683 -1.396053 -1.407366\n",
       "2 -0.581530 -0.183731 -1.346791 -1.195837 -1.206979\n",
       "3 -0.227549  0.167842 -0.287256 -0.467923 -0.478441\n",
       "4  0.862021 -0.026664  1.697379  1.772629  1.764030"
      ]
     },
     "execution_count": 14,
     "metadata": {},
     "output_type": "execute_result"
    }
   ],
   "source": [
    "df.head()"
   ]
  },
  {
   "cell_type": "markdown",
   "metadata": {},
   "source": [
    "# Value of ei\n",
    "Here, we find the value of error(ei) for both, regression through origin and ordinary linear regression"
   ]
  },
  {
   "cell_type": "code",
   "execution_count": 15,
   "metadata": {},
   "outputs": [
    {
     "name": "stdout",
     "output_type": "stream",
     "text": [
      "Value of ei for regression through origin = -0.4005204693961608\n"
     ]
    }
   ],
   "source": [
    "df[\"Ei Origin\"] = df[\"Yi\"] - df[\"YiOrigin\"]\n",
    "print(\"Value of ei for regression through origin =\",sum(df[\"Ei Origin\"]))"
   ]
  },
  {
   "cell_type": "code",
   "execution_count": 16,
   "metadata": {},
   "outputs": [
    {
     "name": "stdout",
     "output_type": "stream",
     "text": [
      "Value of ei for ordinary linear regression = -9.992007221626409e-16\n"
     ]
    }
   ],
   "source": [
    "df[\"Ei Hat\"] = df[\"Yi\"] - df[\"YiHat\"]\n",
    "print(\"Value of ei for ordinary linear regression =\",sum(df[\"Ei Hat\"]))"
   ]
  },
  {
   "cell_type": "markdown",
   "metadata": {},
   "source": [
    "#### Comparing both the above values, it can be seen that e value is very small ordinary linear regression than regression through origin. Hence, it can be inferred that ordinary regression line is the best fit than the line passing through origin."
   ]
  },
  {
   "cell_type": "code",
   "execution_count": 17,
   "metadata": {},
   "outputs": [
    {
     "data": {
      "text/html": [
       "<div>\n",
       "<style scoped>\n",
       "    .dataframe tbody tr th:only-of-type {\n",
       "        vertical-align: middle;\n",
       "    }\n",
       "\n",
       "    .dataframe tbody tr th {\n",
       "        vertical-align: top;\n",
       "    }\n",
       "\n",
       "    .dataframe thead th {\n",
       "        text-align: right;\n",
       "    }\n",
       "</style>\n",
       "<table border=\"1\" class=\"dataframe\">\n",
       "  <thead>\n",
       "    <tr style=\"text-align: right;\">\n",
       "      <th></th>\n",
       "      <th>Xi</th>\n",
       "      <th>E</th>\n",
       "      <th>Yi</th>\n",
       "      <th>YiOrigin</th>\n",
       "      <th>YiHat</th>\n",
       "      <th>Ei Origin</th>\n",
       "      <th>Ei Hat</th>\n",
       "    </tr>\n",
       "  </thead>\n",
       "  <tbody>\n",
       "    <tr>\n",
       "      <th>0</th>\n",
       "      <td>0.042358</td>\n",
       "      <td>0.040080</td>\n",
       "      <td>0.124795</td>\n",
       "      <td>0.087103</td>\n",
       "      <td>0.077060</td>\n",
       "      <td>0.037692</td>\n",
       "      <td>0.047735</td>\n",
       "    </tr>\n",
       "    <tr>\n",
       "      <th>1</th>\n",
       "      <td>-0.678894</td>\n",
       "      <td>-0.036894</td>\n",
       "      <td>-1.394683</td>\n",
       "      <td>-1.396053</td>\n",
       "      <td>-1.407366</td>\n",
       "      <td>0.001370</td>\n",
       "      <td>0.012683</td>\n",
       "    </tr>\n",
       "    <tr>\n",
       "      <th>2</th>\n",
       "      <td>-0.581530</td>\n",
       "      <td>-0.183731</td>\n",
       "      <td>-1.346791</td>\n",
       "      <td>-1.195837</td>\n",
       "      <td>-1.206979</td>\n",
       "      <td>-0.150954</td>\n",
       "      <td>-0.139812</td>\n",
       "    </tr>\n",
       "    <tr>\n",
       "      <th>3</th>\n",
       "      <td>-0.227549</td>\n",
       "      <td>0.167842</td>\n",
       "      <td>-0.287256</td>\n",
       "      <td>-0.467923</td>\n",
       "      <td>-0.478441</td>\n",
       "      <td>0.180667</td>\n",
       "      <td>0.191185</td>\n",
       "    </tr>\n",
       "    <tr>\n",
       "      <th>4</th>\n",
       "      <td>0.862021</td>\n",
       "      <td>-0.026664</td>\n",
       "      <td>1.697379</td>\n",
       "      <td>1.772629</td>\n",
       "      <td>1.764030</td>\n",
       "      <td>-0.075250</td>\n",
       "      <td>-0.066651</td>\n",
       "    </tr>\n",
       "  </tbody>\n",
       "</table>\n",
       "</div>"
      ],
      "text/plain": [
       "         Xi         E        Yi  YiOrigin     YiHat  Ei Origin    Ei Hat\n",
       "0  0.042358  0.040080  0.124795  0.087103  0.077060   0.037692  0.047735\n",
       "1 -0.678894 -0.036894 -1.394683 -1.396053 -1.407366   0.001370  0.012683\n",
       "2 -0.581530 -0.183731 -1.346791 -1.195837 -1.206979  -0.150954 -0.139812\n",
       "3 -0.227549  0.167842 -0.287256 -0.467923 -0.478441   0.180667  0.191185\n",
       "4  0.862021 -0.026664  1.697379  1.772629  1.764030  -0.075250 -0.066651"
      ]
     },
     "execution_count": 17,
     "metadata": {},
     "output_type": "execute_result"
    }
   ],
   "source": [
    "df.head()"
   ]
  },
  {
   "cell_type": "markdown",
   "metadata": {},
   "source": [
    "### R - squared values\n",
    "Calculate the value of r squared for regresion through origin\n"
   ]
  },
  {
   "cell_type": "code",
   "execution_count": 18,
   "metadata": {},
   "outputs": [],
   "source": [
    "n = len(df[\"Xi\"])\n",
    "import math\n",
    "r_squared_origin = ((n*sum(df[\"Xi\"]*df[\"YiOrigin\"])) - (sum(df[\"Xi\"]) * sum(df[\"YiOrigin\"]))) / math.sqrt((n*sum(df[\"Xi\"]**2))*((n*sum(df[\"YiOrigin\"]**2) - ((sum(df[\"YiOrigin\"]))**2))))"
   ]
  },
  {
   "cell_type": "code",
   "execution_count": 19,
   "metadata": {},
   "outputs": [
    {
     "data": {
      "text/plain": [
       "0.9948265650186092"
      ]
     },
     "execution_count": 19,
     "metadata": {},
     "output_type": "execute_result"
    }
   ],
   "source": [
    "r_squared_origin"
   ]
  },
  {
   "cell_type": "markdown",
   "metadata": {},
   "source": [
    "Calculate the value of r squared for ordinary regression line"
   ]
  },
  {
   "cell_type": "code",
   "execution_count": 20,
   "metadata": {},
   "outputs": [
    {
     "data": {
      "text/plain": [
       "0.9948265650186093"
      ]
     },
     "execution_count": 20,
     "metadata": {},
     "output_type": "execute_result"
    }
   ],
   "source": [
    "r_squared_hat = ((n*sum(df[\"Xi\"]*df[\"YiHat\"])) - (sum(df[\"Xi\"]) * sum(df[\"YiHat\"]))) / math.sqrt((n*sum(df[\"Xi\"]**2))*((n*sum(df[\"YiHat\"]**2) - ((sum(df[\"YiHat\"]))**2))))\n",
    "r_squared_hat"
   ]
  },
  {
   "cell_type": "markdown",
   "metadata": {},
   "source": [
    "# Question 5"
   ]
  },
  {
   "cell_type": "code",
   "execution_count": 21,
   "metadata": {},
   "outputs": [],
   "source": [
    "import warnings\n",
    "warnings.filterwarnings(\"ignore\", category=FutureWarning)\n",
    "data = pd.read_fwf(\"/kaggle/input/skincancer2.txt\")"
   ]
  },
  {
   "cell_type": "code",
   "execution_count": 22,
   "metadata": {},
   "outputs": [
    {
     "data": {
      "text/html": [
       "<div>\n",
       "<style scoped>\n",
       "    .dataframe tbody tr th:only-of-type {\n",
       "        vertical-align: middle;\n",
       "    }\n",
       "\n",
       "    .dataframe tbody tr th {\n",
       "        vertical-align: top;\n",
       "    }\n",
       "\n",
       "    .dataframe thead th {\n",
       "        text-align: right;\n",
       "    }\n",
       "</style>\n",
       "<table border=\"1\" class=\"dataframe\">\n",
       "  <thead>\n",
       "    <tr style=\"text-align: right;\">\n",
       "      <th></th>\n",
       "      <th>State</th>\n",
       "      <th>Lat</th>\n",
       "      <th>Mort</th>\n",
       "      <th>Ocean</th>\n",
       "      <th>Long</th>\n",
       "    </tr>\n",
       "  </thead>\n",
       "  <tbody>\n",
       "    <tr>\n",
       "      <th>0</th>\n",
       "      <td>Alabama</td>\n",
       "      <td>33.0</td>\n",
       "      <td>210</td>\n",
       "      <td>1</td>\n",
       "      <td>87.0</td>\n",
       "    </tr>\n",
       "    <tr>\n",
       "      <th>1</th>\n",
       "      <td>Arizona</td>\n",
       "      <td>34.5</td>\n",
       "      <td>160</td>\n",
       "      <td>0</td>\n",
       "      <td>112.0</td>\n",
       "    </tr>\n",
       "    <tr>\n",
       "      <th>2</th>\n",
       "      <td>Arkansas</td>\n",
       "      <td>35.0</td>\n",
       "      <td>170</td>\n",
       "      <td>0</td>\n",
       "      <td>92.5</td>\n",
       "    </tr>\n",
       "    <tr>\n",
       "      <th>3</th>\n",
       "      <td>California</td>\n",
       "      <td>37.5</td>\n",
       "      <td>182</td>\n",
       "      <td>1</td>\n",
       "      <td>119.5</td>\n",
       "    </tr>\n",
       "    <tr>\n",
       "      <th>4</th>\n",
       "      <td>Colorado</td>\n",
       "      <td>39.0</td>\n",
       "      <td>149</td>\n",
       "      <td>0</td>\n",
       "      <td>105.5</td>\n",
       "    </tr>\n",
       "  </tbody>\n",
       "</table>\n",
       "</div>"
      ],
      "text/plain": [
       "        State   Lat  Mort  Ocean   Long\n",
       "0     Alabama  33.0   210      1   87.0\n",
       "1     Arizona  34.5   160      0  112.0\n",
       "2    Arkansas  35.0   170      0   92.5\n",
       "3  California  37.5   182      1  119.5\n",
       "4    Colorado  39.0   149      0  105.5"
      ]
     },
     "execution_count": 22,
     "metadata": {},
     "output_type": "execute_result"
    }
   ],
   "source": [
    "data.head()"
   ]
  },
  {
   "cell_type": "code",
   "execution_count": 23,
   "metadata": {},
   "outputs": [
    {
     "data": {
      "text/plain": [
       "(39.43958333333333, 152.75)"
      ]
     },
     "execution_count": 23,
     "metadata": {},
     "output_type": "execute_result"
    }
   ],
   "source": [
    "# y = Mort.    x = lat\n",
    "lat_mean = sum(data.Lat) / len(data.Lat)\n",
    "mort_mean = sum(data.Mort) / len(data.Mort)\n",
    "lat_mean , mort_mean"
   ]
  },
  {
   "cell_type": "markdown",
   "metadata": {},
   "source": [
    "## Estimated value for B1 (Slope of the line)"
   ]
  },
  {
   "cell_type": "code",
   "execution_count": 24,
   "metadata": {},
   "outputs": [
    {
     "name": "stdout",
     "output_type": "stream",
     "text": [
      "Slope = -6.031332653272506 Intercept = 390.6232467897954\n"
     ]
    }
   ],
   "source": [
    "b1_skn = sum((data.Lat - lat_mean)*(data.Mort - mort_mean)) / sum((data.Lat - lat_mean)**2)\n",
    "b0_skn = mort_mean - (b1_skn * lat_mean)\n",
    "print (\"Slope =\", b1_skn,\"Intercept =\",b0_skn)"
   ]
  },
  {
   "cell_type": "markdown",
   "metadata": {},
   "source": [
    "## Sum of Squared"
   ]
  },
  {
   "cell_type": "code",
   "execution_count": 25,
   "metadata": {},
   "outputs": [
    {
     "data": {
      "text/html": [
       "<div>\n",
       "<style scoped>\n",
       "    .dataframe tbody tr th:only-of-type {\n",
       "        vertical-align: middle;\n",
       "    }\n",
       "\n",
       "    .dataframe tbody tr th {\n",
       "        vertical-align: top;\n",
       "    }\n",
       "\n",
       "    .dataframe thead th {\n",
       "        text-align: right;\n",
       "    }\n",
       "</style>\n",
       "<table border=\"1\" class=\"dataframe\">\n",
       "  <thead>\n",
       "    <tr style=\"text-align: right;\">\n",
       "      <th></th>\n",
       "      <th>State</th>\n",
       "      <th>Lat</th>\n",
       "      <th>Mort</th>\n",
       "      <th>Ocean</th>\n",
       "      <th>Long</th>\n",
       "      <th>predictions</th>\n",
       "    </tr>\n",
       "  </thead>\n",
       "  <tbody>\n",
       "    <tr>\n",
       "      <th>0</th>\n",
       "      <td>Alabama</td>\n",
       "      <td>33.0</td>\n",
       "      <td>210</td>\n",
       "      <td>1</td>\n",
       "      <td>87.0</td>\n",
       "      <td>191.589269</td>\n",
       "    </tr>\n",
       "    <tr>\n",
       "      <th>1</th>\n",
       "      <td>Arizona</td>\n",
       "      <td>34.5</td>\n",
       "      <td>160</td>\n",
       "      <td>0</td>\n",
       "      <td>112.0</td>\n",
       "      <td>182.542270</td>\n",
       "    </tr>\n",
       "    <tr>\n",
       "      <th>2</th>\n",
       "      <td>Arkansas</td>\n",
       "      <td>35.0</td>\n",
       "      <td>170</td>\n",
       "      <td>0</td>\n",
       "      <td>92.5</td>\n",
       "      <td>179.526604</td>\n",
       "    </tr>\n",
       "    <tr>\n",
       "      <th>3</th>\n",
       "      <td>California</td>\n",
       "      <td>37.5</td>\n",
       "      <td>182</td>\n",
       "      <td>1</td>\n",
       "      <td>119.5</td>\n",
       "      <td>164.448272</td>\n",
       "    </tr>\n",
       "    <tr>\n",
       "      <th>4</th>\n",
       "      <td>Colorado</td>\n",
       "      <td>39.0</td>\n",
       "      <td>149</td>\n",
       "      <td>0</td>\n",
       "      <td>105.5</td>\n",
       "      <td>155.401273</td>\n",
       "    </tr>\n",
       "  </tbody>\n",
       "</table>\n",
       "</div>"
      ],
      "text/plain": [
       "        State   Lat  Mort  Ocean   Long  predictions\n",
       "0     Alabama  33.0   210      1   87.0   191.589269\n",
       "1     Arizona  34.5   160      0  112.0   182.542270\n",
       "2    Arkansas  35.0   170      0   92.5   179.526604\n",
       "3  California  37.5   182      1  119.5   164.448272\n",
       "4    Colorado  39.0   149      0  105.5   155.401273"
      ]
     },
     "execution_count": 25,
     "metadata": {},
     "output_type": "execute_result"
    }
   ],
   "source": [
    "data[\"predictions\"] = (data.Lat * b1_skn) + (b0_skn)\n",
    "data.head()\n"
   ]
  },
  {
   "cell_type": "code",
   "execution_count": 26,
   "metadata": {},
   "outputs": [
    {
     "data": {
      "text/plain": [
       "152.75"
      ]
     },
     "execution_count": 26,
     "metadata": {},
     "output_type": "execute_result"
    }
   ],
   "source": [
    "mort_mean"
   ]
  },
  {
   "cell_type": "markdown",
   "metadata": {},
   "source": [
    "## SSE SSR and SST"
   ]
  },
  {
   "cell_type": "code",
   "execution_count": 27,
   "metadata": {},
   "outputs": [
    {
     "name": "stdout",
     "output_type": "stream",
     "text": [
      "Sum of Squared Errors =  16041.8506521439  \n",
      "Sum of Squared due to Regression = 36381.149347856066 \n",
      "Sum of Squared Total =  52423.0\n"
     ]
    }
   ],
   "source": [
    "SSE = sum((data.Mort - data.predictions)**2)\n",
    "SST = sum((data.Mort - mort_mean)**2)\n",
    "SSR = sum((data.predictions - mort_mean)**2)\n",
    "\n",
    "print (\"Sum of Squared Errors = \",SSE,\" \\nSum of Squared due to Regression =\",SSR , \"\\nSum of Squared Total = \",SST) "
   ]
  },
  {
   "cell_type": "markdown",
   "metadata": {},
   "source": [
    "## Hypotheses"
   ]
  },
  {
   "cell_type": "code",
   "execution_count": 28,
   "metadata": {},
   "outputs": [],
   "source": [
    "import math\n",
    "MSE = math.sqrt(SSE/len(data.Lat))\n",
    "yyy = MSE/math.sqrt(sum((data.Lat-lat_mean)**2))"
   ]
  },
  {
   "cell_type": "code",
   "execution_count": 29,
   "metadata": {},
   "outputs": [],
   "source": [
    "#TO calculate T value\n",
    "from scipy import stats\n",
    "ci = 95\n",
    "n = 48\n",
    "t = stats.t.ppf(1- ((100-ci)/2/100), n-2)\n",
    "x = t*yyy"
   ]
  },
  {
   "cell_type": "code",
   "execution_count": 30,
   "metadata": {},
   "outputs": [
    {
     "name": "stdout",
     "output_type": "stream",
     "text": [
      "The 95% confidence interval turns out to be\n",
      " -7.195 < B1 < -4.868\n"
     ]
    }
   ],
   "source": [
    "print(\"The 95% confidence interval turns out to be\\n\",round(b1_skn - x,3),\"< B1 <\",round(b1_skn + x,3))"
   ]
  },
  {
   "cell_type": "markdown",
   "metadata": {},
   "source": [
    "## Using functions to verify the parameters calculated above"
   ]
  },
  {
   "cell_type": "code",
   "execution_count": 31,
   "metadata": {},
   "outputs": [
    {
     "name": "stdout",
     "output_type": "stream",
     "text": [
      "Slope =  [[-6.03133265]] \n",
      "Intercept =  [390.62324679]\n"
     ]
    }
   ],
   "source": [
    "from sklearn.linear_model import LinearRegression\n",
    "reg = LinearRegression()\n",
    "\n",
    "train_x = data.iloc[:,1:2]\n",
    "train_y = data.iloc[:,2:3]\n",
    "reg.fit(train_x,train_y)\n",
    "\n",
    "print (\"Slope = \",reg.coef_,\"\\nIntercept = \",reg.intercept_)"
   ]
  },
  {
   "cell_type": "markdown",
   "metadata": {},
   "source": [
    "## Summary"
   ]
  },
  {
   "cell_type": "code",
   "execution_count": 32,
   "metadata": {},
   "outputs": [
    {
     "data": {
      "text/html": [
       "<table class=\"simpletable\">\n",
       "<caption>OLS Regression Results</caption>\n",
       "<tr>\n",
       "  <th>Dep. Variable:</th>         <td>train_y</td>     <th>  R-squared:         </th> <td>   0.694</td>\n",
       "</tr>\n",
       "<tr>\n",
       "  <th>Model:</th>                   <td>OLS</td>       <th>  Adj. R-squared:    </th> <td>   0.687</td>\n",
       "</tr>\n",
       "<tr>\n",
       "  <th>Method:</th>             <td>Least Squares</td>  <th>  F-statistic:       </th> <td>   104.3</td>\n",
       "</tr>\n",
       "<tr>\n",
       "  <th>Date:</th>             <td>Thu, 12 Sep 2019</td> <th>  Prob (F-statistic):</th> <td>2.07e-13</td>\n",
       "</tr>\n",
       "<tr>\n",
       "  <th>Time:</th>                 <td>00:37:17</td>     <th>  Log-Likelihood:    </th> <td> -207.59</td>\n",
       "</tr>\n",
       "<tr>\n",
       "  <th>No. Observations:</th>      <td>    48</td>      <th>  AIC:               </th> <td>   419.2</td>\n",
       "</tr>\n",
       "<tr>\n",
       "  <th>Df Residuals:</th>          <td>    46</td>      <th>  BIC:               </th> <td>   422.9</td>\n",
       "</tr>\n",
       "<tr>\n",
       "  <th>Df Model:</th>              <td>     1</td>      <th>                     </th>     <td> </td>   \n",
       "</tr>\n",
       "<tr>\n",
       "  <th>Covariance Type:</th>      <td>nonrobust</td>    <th>                     </th>     <td> </td>   \n",
       "</tr>\n",
       "</table>\n",
       "<table class=\"simpletable\">\n",
       "<tr>\n",
       "      <td></td>         <th>coef</th>     <th>std err</th>      <th>t</th>      <th>P>|t|</th>  <th>[0.025</th>    <th>0.975]</th>  \n",
       "</tr>\n",
       "<tr>\n",
       "  <th>Intercept</th> <td>  390.6232</td> <td>   23.445</td> <td>   16.661</td> <td> 0.000</td> <td>  343.431</td> <td>  437.815</td>\n",
       "</tr>\n",
       "<tr>\n",
       "  <th>train_x</th>   <td>   -6.0313</td> <td>    0.591</td> <td>  -10.214</td> <td> 0.000</td> <td>   -7.220</td> <td>   -4.843</td>\n",
       "</tr>\n",
       "</table>\n",
       "<table class=\"simpletable\">\n",
       "<tr>\n",
       "  <th>Omnibus:</th>       <td> 0.314</td> <th>  Durbin-Watson:     </th> <td>   2.116</td>\n",
       "</tr>\n",
       "<tr>\n",
       "  <th>Prob(Omnibus):</th> <td> 0.855</td> <th>  Jarque-Bera (JB):  </th> <td>   0.496</td>\n",
       "</tr>\n",
       "<tr>\n",
       "  <th>Skew:</th>          <td> 0.090</td> <th>  Prob(JB):          </th> <td>   0.780</td>\n",
       "</tr>\n",
       "<tr>\n",
       "  <th>Kurtosis:</th>      <td> 2.535</td> <th>  Cond. No.          </th> <td>    346.</td>\n",
       "</tr>\n",
       "</table><br/><br/>Warnings:<br/>[1] Standard Errors assume that the covariance matrix of the errors is correctly specified."
      ],
      "text/plain": [
       "<class 'statsmodels.iolib.summary.Summary'>\n",
       "\"\"\"\n",
       "                            OLS Regression Results                            \n",
       "==============================================================================\n",
       "Dep. Variable:                train_y   R-squared:                       0.694\n",
       "Model:                            OLS   Adj. R-squared:                  0.687\n",
       "Method:                 Least Squares   F-statistic:                     104.3\n",
       "Date:                Thu, 12 Sep 2019   Prob (F-statistic):           2.07e-13\n",
       "Time:                        00:37:17   Log-Likelihood:                -207.59\n",
       "No. Observations:                  48   AIC:                             419.2\n",
       "Df Residuals:                      46   BIC:                             422.9\n",
       "Df Model:                           1                                         \n",
       "Covariance Type:            nonrobust                                         \n",
       "==============================================================================\n",
       "                 coef    std err          t      P>|t|      [0.025      0.975]\n",
       "------------------------------------------------------------------------------\n",
       "Intercept    390.6232     23.445     16.661      0.000     343.431     437.815\n",
       "train_x       -6.0313      0.591    -10.214      0.000      -7.220      -4.843\n",
       "==============================================================================\n",
       "Omnibus:                        0.314   Durbin-Watson:                   2.116\n",
       "Prob(Omnibus):                  0.855   Jarque-Bera (JB):                0.496\n",
       "Skew:                           0.090   Prob(JB):                        0.780\n",
       "Kurtosis:                       2.535   Cond. No.                         346.\n",
       "==============================================================================\n",
       "\n",
       "Warnings:\n",
       "[1] Standard Errors assume that the covariance matrix of the errors is correctly specified.\n",
       "\"\"\""
      ]
     },
     "execution_count": 32,
     "metadata": {},
     "output_type": "execute_result"
    }
   ],
   "source": [
    "from statsmodels.formula.api import ols\n",
    "model = ols(\"train_y ~ train_x\", data).fit()\n",
    "model.summary()"
   ]
  },
  {
   "cell_type": "markdown",
   "metadata": {},
   "source": [
    "In the summary, we can note the values of b0(intercept) and b1(regression coefficeint) and compare them to the values that we calculated previously. These values are similar to each other.\n",
    "\n",
    "Also in the summary, it can be observed that the confidence interval lies between -7.220 to -4.843, which is also quite close to the values that we calculated previously.\n",
    "  "
   ]
  },
  {
   "cell_type": "markdown",
   "metadata": {},
   "source": [
    "## Plot"
   ]
  },
  {
   "cell_type": "code",
   "execution_count": 33,
   "metadata": {},
   "outputs": [
    {
     "data": {
      "text/plain": [
       "<matplotlib.axes._subplots.AxesSubplot at 0x7fc2755027f0>"
      ]
     },
     "execution_count": 33,
     "metadata": {},
     "output_type": "execute_result"
    },
    {
     "data": {
      "image/png": "[encoded data removed]",
      "text/plain": [
       "<Figure size 432x288 with 1 Axes>"
      ]
     },
     "metadata": {
      "needs_background": "light"
     },
     "output_type": "display_data"
    }
   ],
   "source": [
    "import seaborn as sns\n",
    "sns.regplot(data.Lat,data.Mort)"
   ]
  }
 ],
 "metadata": {
  "kernelspec": {
   "display_name": "Python 3",
   "language": "python",
   "name": "python3"
  },
  "language_info": {
   "codemirror_mode": {
    "name": "ipython",
    "version": 3
   },
   "file_extension": ".py",
   "mimetype": "text/x-python",
   "name": "python",
   "nbconvert_exporter": "python",
   "pygments_lexer": "ipython3",
   "version": "3.7.4"
  }
 },
 "nbformat": 4,
 "nbformat_minor": 1
}
